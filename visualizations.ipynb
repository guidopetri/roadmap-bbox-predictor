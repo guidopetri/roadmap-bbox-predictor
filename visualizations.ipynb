{
 "cells": [
  {
   "cell_type": "markdown",
   "metadata": {},
   "source": [
    "# Final competition of Deep Learning 2020 Spring\n",
    "Traffic environment semi-supervised Learning Contest\n",
    "\n",
    "## Goals\n",
    "The objective is to train a model using images captured by six different cameras attached to the same car to generate a top down view of the surrounding area. The performance of the model will be evaluated by (1) the ability of detecting objects (like car, trucks, bicycles, etc.) and (2) the ability to draw the road map layout.\n",
    "\n",
    "## Data\n",
    "You will be given two sets of data:\n",
    "\n",
    " 1. Unlabeled set: just images\n",
    " 2. Labeled set: images and the labels(bounding box and road map layout)\n",
    "\n",
    "This notebook will help you understand the dataset."
   ]
  },
  {
   "cell_type": "code",
   "execution_count": 1,
   "metadata": {},
   "outputs": [],
   "source": [
    "import os\n",
    "import random\n",
    "\n",
    "import numpy as np\n",
    "import pandas as pd\n",
    "\n",
    "import matplotlib\n",
    "import matplotlib.pyplot as plt\n",
    "matplotlib.rcParams['figure.figsize'] = [5, 5]\n",
    "matplotlib.rcParams['figure.dpi'] = 200\n",
    "\n",
    "import torch\n",
    "import torch.nn as nn\n",
    "import torch.nn.functional as F\n",
    "import torchvision\n",
    "\n",
    "from data_helper import UnlabeledDataset, LabeledDataset\n",
    "from helper import collate_fn, draw_box"
   ]
  },
  {
   "cell_type": "code",
   "execution_count": 2,
   "metadata": {},
   "outputs": [],
   "source": [
    "random.seed(0)\n",
    "np.random.seed(0)\n",
    "torch.manual_seed(0);"
   ]
  },
  {
   "cell_type": "code",
   "execution_count": 3,
   "metadata": {},
   "outputs": [],
   "source": [
    "# All the images are saved in image_folder\n",
    "# All the labels are saved in the annotation_csv file\n",
    "image_folder = 'data'\n",
    "annotation_csv = 'data/annotation.csv'"
   ]
  },
  {
   "cell_type": "markdown",
   "metadata": {},
   "source": [
    "# Dataset\n",
    "\n",
    "You will get two different datasets:\n",
    "\n",
    " 1. an unlabeled dataset for pre-training\n",
    " 2. a labeled dataset for both training and validation\n",
    " \n",
    "## The dataset is organized into three levels: scene, sample and image\n",
    "\n",
    " 1. A scene is 25 seconds of a car's journey.\n",
    " 2. A sample is a snapshot of a scene at a given timeframe. Each scene will be divided into 126 samples, so about 0.2 seconds between consecutive samples.\n",
    " 3. Each sample contains 6 images captured by camera facing different orientation.\n",
    "    Each camera will capture 70 degree view. To make it simple, you can safely assume that the angle between the cameras is 60 degrees \n",
    "\n",
    "106 scenes in the unlabeled dataset and 28 scenes in the labeled dataset"
   ]
  },
  {
   "cell_type": "code",
   "execution_count": 4,
   "metadata": {},
   "outputs": [],
   "source": [
    "# You shouldn't change the unlabeled_scene_index\n",
    "# The first 106 scenes are unlabeled\n",
    "unlabeled_scene_index = np.arange(106)\n",
    "# The scenes from 106 - 133 are labeled\n",
    "# You should devide the labeled_scene_index into two subsets (training and validation)\n",
    "labeled_scene_index = np.arange(106, 134)"
   ]
  },
  {
   "cell_type": "markdown",
   "metadata": {},
   "source": [
    "# Labeled dataset"
   ]
  },
  {
   "cell_type": "code",
   "execution_count": 5,
   "metadata": {},
   "outputs": [],
   "source": [
    "# The labeled dataset can only be retrieved by sample.\n",
    "# And all the returned data are tuple of tensors, since bounding boxes may have different size\n",
    "# You can choose whether the loader returns the extra_info. It is optional. You don't have to use it.\n",
    "transform = torchvision.transforms.ToTensor()\n",
    "labeled_trainset = LabeledDataset(image_folder=image_folder,\n",
    "                                  annotation_file=annotation_csv,\n",
    "                                  scene_index=labeled_scene_index,\n",
    "                                  transform=transform,\n",
    "                                  extra_info=True\n",
    "                                 )\n",
    "trainloader = torch.utils.data.DataLoader(labeled_trainset, batch_size=5, shuffle=True, num_workers=0, collate_fn=collate_fn)"
   ]
  },
  {
   "cell_type": "code",
   "execution_count": 6,
   "metadata": {},
   "outputs": [
    {
     "name": "stdout",
     "output_type": "stream",
     "text": [
      "torch.Size([5, 6, 3, 256, 306])\n"
     ]
    }
   ],
   "source": [
    "sample, target, road_image, extra = iter(trainloader).next()\n",
    "print(torch.stack(sample).shape)"
   ]
  },
  {
   "cell_type": "markdown",
   "metadata": {},
   "source": [
    "There are two kind of labels\n",
    "\n",
    " 1. The bounding box of surrounding objects\n",
    " 2. The binary road_image"
   ]
  },
  {
   "cell_type": "markdown",
   "metadata": {},
   "source": [
    "# Visualize the bounding box"
   ]
  },
  {
   "cell_type": "code",
   "execution_count": 7,
   "metadata": {},
   "outputs": [],
   "source": [
    "def draw_box_mod(ax, corners, color):\n",
    "    point_squence = torch.stack([corners[:, 0], corners[:, 2], corners[:, 1], corners[:, 3], corners[:, 0]])\n",
    "    \n",
    "    # the corners are in meter and time 10 will convert them in pixels\n",
    "    # Add 400, since the center of the image is at pixel (400, 400)\n",
    "    # The negative sign is because the y axis is reversed for matplotlib\n",
    "    ax.plot(point_squence.T[0] * 10 + 400, -point_squence.T[1] * 10 + 400, color=color)"
   ]
  },
  {
   "cell_type": "code",
   "execution_count": 16,
   "metadata": {},
   "outputs": [
    {
     "data": {
      "text/plain": [
       "(tensor([[[-1.9414e+00,  7.6073e+00, -1.9414e+00,  7.6073e+00],\n",
       "          [ 2.8882e+01,  2.4248e+01,  2.4248e+01,  2.8882e+01]],\n",
       " \n",
       "         [[-7.4156e+00,  1.0331e+00, -7.4156e+00,  1.0331e+00],\n",
       "          [ 2.7549e+01,  2.5310e+01,  2.5310e+01,  2.7549e+01]],\n",
       " \n",
       "         [[-1.0629e+01, -6.4480e+00, -1.0629e+01, -6.4480e+00],\n",
       "          [ 1.4161e+01,  1.2293e+01,  1.2293e+01,  1.4161e+01]],\n",
       " \n",
       "         [[-5.5452e+00, -2.5579e-01, -5.5452e+00, -2.5579e-01],\n",
       "          [ 1.7259e+01,  1.4516e+01,  1.4516e+01,  1.7259e+01]],\n",
       " \n",
       "         [[ 1.5649e+01,  1.9698e+01,  1.5649e+01,  1.9698e+01],\n",
       "          [ 8.4782e+00,  6.9284e+00,  6.9284e+00,  8.4782e+00]],\n",
       " \n",
       "         [[ 1.4533e+01,  1.9051e+01,  1.4533e+01,  1.9051e+01],\n",
       "          [ 2.7787e+01,  2.5506e+01,  2.5506e+01,  2.7787e+01]],\n",
       " \n",
       "         [[ 9.1832e+00,  1.3141e+01,  9.1832e+00,  1.3141e+01],\n",
       "          [ 4.2619e+00,  2.8469e+00,  2.8469e+00,  4.2619e+00]],\n",
       " \n",
       "         [[-1.4001e+01, -7.8329e+00, -1.4001e+01, -7.8329e+00],\n",
       "          [ 1.3888e+01,  1.1096e+01,  1.1096e+01,  1.3888e+01]],\n",
       " \n",
       "         [[ 8.1759e+00,  1.4850e+01,  8.1759e+00,  1.4850e+01],\n",
       "          [ 5.0813e+00,  1.9774e+00,  1.9774e+00,  5.0813e+00]],\n",
       " \n",
       "         [[ 9.9922e+00,  1.6655e+01,  9.9922e+00,  1.6655e+01],\n",
       "          [ 2.7708e+01,  2.5420e+01,  2.5420e+01,  2.7708e+01]],\n",
       " \n",
       "         [[-5.5956e+00,  5.2449e-01, -5.5956e+00,  5.2449e-01],\n",
       "          [ 1.4988e+01,  1.1726e+01,  1.1726e+01,  1.4988e+01]],\n",
       " \n",
       "         [[-1.2629e+01, -1.0451e+01, -1.2629e+01, -1.0451e+01],\n",
       "          [-1.0412e+01, -1.4924e+01, -1.4924e+01, -1.0412e+01]],\n",
       " \n",
       "         [[ 2.3682e+01,  2.9328e+01,  2.3682e+01,  2.9328e+01],\n",
       "          [ 2.7863e+01,  2.5481e+01,  2.5481e+01,  2.7863e+01]],\n",
       " \n",
       "         [[ 3.0965e+01,  3.6523e+01,  3.0965e+01,  3.6523e+01],\n",
       "          [ 5.6504e+00,  3.4091e+00,  3.4091e+00,  5.6504e+00]],\n",
       " \n",
       "         [[-1.2934e+01, -8.9684e+00, -1.2934e+01, -8.9684e+00],\n",
       "          [ 1.7224e-01, -1.2291e+00, -1.2291e+00,  1.7224e-01]],\n",
       " \n",
       "         [[ 2.8953e+01,  3.3345e+01,  2.8953e+01,  3.3345e+01],\n",
       "          [ 2.3281e+01,  2.1616e+01,  2.1616e+01,  2.3281e+01]],\n",
       " \n",
       "         [[ 1.0950e+01,  1.6340e+01,  1.0950e+01,  1.6340e+01],\n",
       "          [ 1.4745e+01,  1.1756e+01,  1.1756e+01,  1.4745e+01]],\n",
       " \n",
       "         [[ 5.5181e-01,  5.2312e+00,  5.5181e-01,  5.2312e+00],\n",
       "          [ 1.8511e+01,  1.6710e+01,  1.6710e+01,  1.8511e+01]],\n",
       " \n",
       "         [[ 1.9689e+01,  2.3988e+01,  1.9689e+01,  2.3988e+01],\n",
       "          [ 1.3776e+01,  1.1261e+01,  1.1261e+01,  1.3776e+01]],\n",
       " \n",
       "         [[ 3.3904e+01,  3.8148e+01,  3.3904e+01,  3.8148e+01],\n",
       "          [ 2.7461e+01,  2.5367e+01,  2.5367e+01,  2.7461e+01]],\n",
       " \n",
       "         [[-2.3779e+01, -2.1392e+01, -2.3779e+01, -2.1392e+01],\n",
       "          [-1.3605e+01, -1.9537e+01, -1.9537e+01, -1.3605e+01]],\n",
       " \n",
       "         [[ 4.1428e+00,  7.1521e+00,  4.1428e+00,  7.1521e+00],\n",
       "          [ 1.3696e+01,  1.2390e+01,  1.2390e+01,  1.3696e+01]],\n",
       " \n",
       "         [[-2.0477e+01, -1.4653e+01, -2.0477e+01, -1.4653e+01],\n",
       "          [ 4.2749e-01, -2.3952e+00, -2.3952e+00,  4.2749e-01]],\n",
       " \n",
       "         [[-4.5743e+00, -2.3937e-02, -4.5743e+00, -2.3937e-02],\n",
       "          [ 1.4271e+01,  1.2409e+01,  1.2409e+01,  1.4271e+01]],\n",
       " \n",
       "         [[ 1.4677e+01,  2.1088e+01,  1.4677e+01,  2.1088e+01],\n",
       "          [ 9.1933e+00,  6.4669e+00,  6.4669e+00,  9.1933e+00]],\n",
       " \n",
       "         [[ 1.1150e+01,  1.4909e+01,  1.1150e+01,  1.4909e+01],\n",
       "          [ 2.7506e+01,  2.6264e+01,  2.6264e+01,  2.7506e+01]],\n",
       " \n",
       "         [[-1.5274e+01, -1.1033e+01, -1.5274e+01, -1.1033e+01],\n",
       "          [ 1.9927e+01,  1.6908e+01,  1.6908e+01,  1.9927e+01]],\n",
       " \n",
       "         [[ 1.9458e+01,  2.5807e+01,  1.9458e+01,  2.5807e+01],\n",
       "          [ 2.8109e+01,  2.5121e+01,  2.5121e+01,  2.8109e+01]],\n",
       " \n",
       "         [[ 3.2589e+01,  3.6297e+01,  3.2589e+01,  3.6297e+01],\n",
       "          [ 5.5328e+00,  3.9173e+00,  3.9173e+00,  5.5328e+00]],\n",
       " \n",
       "         [[-9.9391e+00, -6.4295e+00, -9.9391e+00, -6.4295e+00],\n",
       "          [-9.2486e+00, -1.4778e+01, -1.4778e+01, -9.2486e+00]],\n",
       " \n",
       "         [[-1.6130e+01, -9.4123e+00, -1.6130e+01, -9.4123e+00],\n",
       "          [ 9.3209e-01, -1.8457e+00, -1.8457e+00,  9.3209e-01]],\n",
       " \n",
       "         [[ 2.4091e+01,  2.8992e+01,  2.4091e+01,  2.8992e+01],\n",
       "          [ 2.8013e+01,  2.6585e+01,  2.6585e+01,  2.8013e+01]],\n",
       " \n",
       "         [[ 2.5043e+01,  2.8418e+01,  2.5043e+01,  2.8418e+01],\n",
       "          [ 2.1999e+01,  2.0380e+01,  2.0380e+01,  2.1999e+01]],\n",
       " \n",
       "         [[ 2.0442e+01,  2.5042e+01,  2.0442e+01,  2.5042e+01],\n",
       "          [ 2.0559e+01,  1.8754e+01,  1.8754e+01,  2.0559e+01]],\n",
       " \n",
       "         [[-1.0916e+00,  3.9527e+00, -1.0916e+00,  3.9527e+00],\n",
       "          [ 1.8504e+01,  1.5292e+01,  1.5292e+01,  1.8504e+01]],\n",
       " \n",
       "         [[-9.9365e+00, -7.5868e+00, -9.9365e+00, -7.5868e+00],\n",
       "          [ 1.9826e+01,  1.8105e+01,  1.8105e+01,  1.9826e+01]],\n",
       " \n",
       "         [[ 2.8800e+01,  3.4578e+01,  2.8800e+01,  3.4578e+01],\n",
       "          [ 1.8749e+01,  1.6248e+01,  1.6248e+01,  1.8749e+01]],\n",
       " \n",
       "         [[ 1.5400e+01,  1.9856e+01,  1.5400e+01,  1.9856e+01],\n",
       "          [ 2.6783e+01,  2.5287e+01,  2.5287e+01,  2.6783e+01]],\n",
       " \n",
       "         [[ 4.4318e+00,  8.8770e+00,  4.4318e+00,  8.8770e+00],\n",
       "          [ 1.6117e+01,  1.4320e+01,  1.4320e+01,  1.6117e+01]],\n",
       " \n",
       "         [[ 1.8106e+01,  2.3583e+01,  1.8106e+01,  2.3583e+01],\n",
       "          [ 4.5761e+00,  2.0514e+00,  2.0514e+00,  4.5761e+00]],\n",
       " \n",
       "         [[ 1.0967e+01,  1.4837e+01,  1.0967e+01,  1.4837e+01],\n",
       "          [ 1.7351e+01,  1.5721e+01,  1.5721e+01,  1.7351e+01]],\n",
       " \n",
       "         [[ 1.1363e+00,  6.0063e+00,  1.1363e+00,  6.0063e+00],\n",
       "          [ 1.5354e+01,  1.2197e+01,  1.2197e+01,  1.5354e+01]],\n",
       " \n",
       "         [[ 3.0003e+01,  3.4924e+01,  3.0003e+01,  3.4924e+01],\n",
       "          [ 2.7956e+01,  2.5450e+01,  2.5450e+01,  2.7956e+01]],\n",
       " \n",
       "         [[ 3.6335e+00,  8.9440e+00,  3.6335e+00,  8.9440e+00],\n",
       "          [ 1.5302e+01,  1.1870e+01,  1.1870e+01,  1.5302e+01]],\n",
       " \n",
       "         [[-1.9327e+01, -1.4325e+01, -1.9327e+01, -1.4325e+01],\n",
       "          [ 1.3570e+01,  1.1762e+01,  1.1762e+01,  1.3570e+01]],\n",
       " \n",
       "         [[ 2.1550e+00,  6.3573e+00,  2.1550e+00,  6.3573e+00],\n",
       "          [ 1.3608e+01,  1.2144e+01,  1.2144e+01,  1.3608e+01]],\n",
       " \n",
       "         [[-1.3263e+01, -8.4994e+00, -1.3263e+01, -8.4994e+00],\n",
       "          [ 1.3537e+01,  1.1949e+01,  1.1949e+01,  1.3537e+01]],\n",
       " \n",
       "         [[ 1.4245e+01,  1.9988e+01,  1.4245e+01,  1.9988e+01],\n",
       "          [ 2.0425e+01,  1.8055e+01,  1.8055e+01,  2.0425e+01]],\n",
       " \n",
       "         [[-2.8910e+01, -2.6062e+01, -2.8910e+01, -2.6062e+01],\n",
       "          [ 8.7260e+00,  7.2484e+00,  7.2484e+00,  8.7260e+00]],\n",
       " \n",
       "         [[-4.9624e+00, -3.3281e+00, -4.9624e+00, -3.3281e+00],\n",
       "          [-1.0816e+01, -1.4716e+01, -1.4716e+01, -1.0816e+01]],\n",
       " \n",
       "         [[ 4.7582e+00,  9.7146e+00,  4.7582e+00,  9.7146e+00],\n",
       "          [ 1.6646e+01,  1.3942e+01,  1.3942e+01,  1.6646e+01]],\n",
       " \n",
       "         [[ 2.4889e+01,  2.9674e+01,  2.4889e+01,  2.9674e+01],\n",
       "          [ 1.4682e+01,  1.1743e+01,  1.1743e+01,  1.4682e+01]],\n",
       " \n",
       "         [[-3.4708e+01, -3.2291e+01, -3.4708e+01, -3.2291e+01],\n",
       "          [-9.1736e+00, -1.3200e+01, -1.3200e+01, -9.1736e+00]],\n",
       " \n",
       "         [[ 1.0930e+00,  4.4820e+00,  1.0930e+00,  4.4820e+00],\n",
       "          [ 2.2120e+01,  2.0783e+01,  2.0783e+01,  2.2120e+01]],\n",
       " \n",
       "         [[-1.2643e+01, -1.1960e+01, -1.2643e+01, -1.1960e+01],\n",
       "          [-1.0944e+01, -1.2323e+01, -1.2323e+01, -1.0944e+01]],\n",
       " \n",
       "         [[ 3.4575e+01,  3.8602e+01,  3.4575e+01,  3.8602e+01],\n",
       "          [ 7.4588e+00,  5.4702e+00,  5.4702e+00,  7.4588e+00]],\n",
       " \n",
       "         [[-1.0167e+01, -3.2597e+00, -1.0167e+01, -3.2597e+00],\n",
       "          [ 5.0465e+00,  2.6377e+00,  2.6377e+00,  5.0465e+00]],\n",
       " \n",
       "         [[-7.9119e+00, -3.7149e+00, -7.9119e+00, -3.7149e+00],\n",
       "          [ 4.1326e+00,  2.5564e+00,  2.5564e+00,  4.1326e+00]],\n",
       " \n",
       "         [[-1.8508e+01, -8.6208e+00, -1.8508e+01, -8.6208e+00],\n",
       "          [ 2.8358e+01,  2.5081e+01,  2.5081e+01,  2.8358e+01]],\n",
       " \n",
       "         [[-1.2874e+01, -3.0129e+00, -1.2874e+01, -3.0129e+00],\n",
       "          [ 2.7794e+01,  2.5334e+01,  2.5334e+01,  2.7794e+01]]]),)"
      ]
     },
     "execution_count": 16,
     "metadata": {},
     "output_type": "execute_result"
    }
   ],
   "source": [
    "result[0]"
   ]
  },
  {
   "cell_type": "code",
   "execution_count": 11,
   "metadata": {},
   "outputs": [
    {
     "data": {
      "image/png": "[encoded data removed]",
      "text/plain": [
       "<Figure size 432x288 with 1 Axes>"
      ]
     },
     "metadata": {},
     "output_type": "display_data"
    }
   ],
   "source": [
    "from src import *\n",
    "\n",
    "model = KobeModel(num_classes = 10,\n",
    "                               encoder_features = 6,\n",
    "                               rm_dim = 800,\n",
    "                 prob_thresh=0.1,\n",
    "                 conf_thresh=0.1,\n",
    "                 nms_thresh=0.7,\n",
    "                 )\n",
    "        \n",
    "model.load_state_dict(torch.load('F:/dl-project/kobe_model_s16_288_lr3_4_5_epochs.pt', map_location='cpu'))\n",
    "\n",
    "\n",
    "sample_n = 0\n",
    "\n",
    "with torch.no_grad():\n",
    "\n",
    "    result = model.get_bounding_boxes(sample[sample_n].view(1, 6, 3, 256, 306))\n",
    "\n",
    "    roadmap_result = model.get_road_map(sample[sample_n].view(1, 6, 3, 256, 306))\n",
    "\n",
    "from helper import *\n",
    "\n",
    "best_ts = 0\n",
    "best_n = 0\n",
    "\n",
    "for n in range(100):\n",
    "    ts = compute_ts_road_map(roadmap_result[0] > n/100, road_image[0])\n",
    "    if ts > best_ts:\n",
    "        best_ts = ts\n",
    "        best_n = n\n",
    "#print('raw:')\n",
    "#print(compute_ts_road_map(roadmap_result[0], road_image[0]))\n",
    "#print(f'best: {best_n}, {best_ts}')\n",
    "\n",
    "#print(model)\n",
    "\n",
    "reordered_result = result[0][0][:, :, [0, 2, 3, 1]]\n",
    "\n",
    "ats_bounding_boxes, iou_max = compute_ats_bounding_boxes(result[0][0], target[0]['bounding_box'])\n",
    "#print(ats_bounding_boxes)\n",
    "#print(iou_max)\n",
    "\n",
    "ats_bounding_boxes, iou_max = compute_ats_bounding_boxes(reordered_result, target[0]['bounding_box'])\n",
    "#print(ats_bounding_boxes)\n",
    "#print(iou_max)\n",
    "#print(pred_decode.__str__())\n",
    "\n",
    "# The center of image is 400 * 400\n",
    "\n",
    "fig, ax = plt.subplots()\n",
    "\n",
    "#color_list = ['b', 'g', 'orange', 'c', 'm', 'y', 'k', 'w', 'r']\n",
    "\n",
    "ax.imshow(roadmap_result[0].detach()[0] > 0.53, cmap ='binary');\n",
    "\n",
    "# The ego car position\n",
    "ax.plot(400, 400, 'x', color=\"cyan\")\n",
    "\n",
    "reordered_result = result[0][0][:, :, [0, 2, 3, 1]]\n",
    "\n",
    "for i, bb in enumerate(reordered_result):\n",
    "    # You can check the implementation of the draw box to understand how it works \n",
    "    draw_box(ax, bb, color='red')\n",
    "    pass"
   ]
  },
  {
   "cell_type": "code",
   "execution_count": 9,
   "metadata": {},
   "outputs": [
    {
     "data": {
      "image/png": "[encoded data removed]",
      "text/plain": [
       "<Figure size 432x288 with 1 Axes>"
      ]
     },
     "metadata": {},
     "output_type": "display_data"
    }
   ],
   "source": [
    "# The center of image is 400 * 400\n",
    "\n",
    "fig, ax = plt.subplots()\n",
    "\n",
    "color_list = ['b', 'g', 'orange', 'c', 'm', 'y', 'k', 'w', 'r']\n",
    "\n",
    "ax.imshow(road_image[0], cmap ='binary');\n",
    "\n",
    "# The ego car position\n",
    "ax.plot(400, 400, 'x', color=\"red\")\n",
    "\n",
    "for i, bb in enumerate(target[sample_n]['bounding_box']):\n",
    "    # You can check the implementation of the draw box to understand how it works \n",
    "    draw_box(ax, bb, color=color_list[target[sample_n]['category'][i]])    "
   ]
  },
  {
   "cell_type": "code",
   "execution_count": null,
   "metadata": {},
   "outputs": [],
   "source": []
  }
 ],
 "metadata": {
  "kernelspec": {
   "display_name": "Python 3",
   "language": "python",
   "name": "python3"
  },
  "language_info": {
   "codemirror_mode": {
    "name": "ipython",
    "version": 3
   },
   "file_extension": ".py",
   "mimetype": "text/x-python",
   "name": "python",
   "nbconvert_exporter": "python",
   "pygments_lexer": "ipython3",
   "version": "3.7.0"
  }
 },
 "nbformat": 4,
 "nbformat_minor": 4
}
